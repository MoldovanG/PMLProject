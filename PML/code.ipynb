{
 "cells": [
  {
   "cell_type": "code",
   "execution_count": 12,
   "metadata": {},
   "outputs": [],
   "source": [
    "max_words = 500"
   ]
  },
  {
   "cell_type": "code",
   "execution_count": 13,
   "metadata": {},
   "outputs": [],
   "source": [
    "import json\n",
    "import keras\n",
    "import keras.preprocessing.text as kpt\n",
    "from keras.preprocessing.text import Tokenizer\n",
    "\n",
    "class FeatureProcessor:\n",
    "    def __init__(self, tweets):\n",
    "        self.tweets = tweets\n",
    "        self.tokenizer = Tokenizer(num_words=max_words)\n",
    "        # feed our tweets to the Tokenizer\n",
    "        self.tokenizer.fit_on_texts(tweets)\n",
    "\n",
    "        # Tokenizers come with a convenient list of words and IDs\n",
    "        self.dictionary = self.tokenizer.word_index\n",
    "    \n",
    "    def convert_text_to_index_array(self,tweet):\n",
    "        # one really important thing that `text_to_word_sequence` does\n",
    "        # is make all texts the same length -- in this case, the length\n",
    "        # of the longest text in the set.\n",
    "        return [self.dictionary[word] for word in kpt.text_to_word_sequence(tweet)]\n",
    "\n",
    "    def get_tokenized_tweets(self):\n",
    "        allWordIndices = []\n",
    "        # for each tweet, change each token to its ID in the Tokenizer's word_index\n",
    "        for tweet in self.tweets:\n",
    "            wordIndices = self.convert_text_to_index_array(tweet)\n",
    "            allWordIndices.append(wordIndices)\n",
    "\n",
    "        # now we have a list of all tweets converted to index arrays.\n",
    "        # cast as an array for future usage.\n",
    "        allWordIndices = np.asarray(allWordIndices)\n",
    "\n",
    "        # create one-hot matrices out of the indexed tweets\n",
    "        train_x = self.tokenizer.sequences_to_matrix(allWordIndices, mode='binary')\n",
    "        return train_x"
   ]
  },
  {
   "cell_type": "code",
   "execution_count": 14,
   "metadata": {},
   "outputs": [],
   "source": [
    "import pandas as pd \n",
    "import numpy as np\n",
    "class DatasetLoader:\n",
    "    def __init__(self, csv_file_path):\n",
    "        data_frame = pd.read_csv(csv_file_path)\n",
    "        self.data = np.array(data_frame)\n",
    "        self.ids = self.data[:,0]\n",
    "        self.labels = np.asarray(self.data[:,1:3]).astype('float32')\n",
    "        self.features = self.data[:,3]\n",
    "        feature_processor = FeatureProcessor(self.features)\n",
    "        self.preprocessed_features = feature_processor.get_tokenized_tweets()\n",
    "        self.preprocessed_features = np.asarray(self.preprocessed_features).astype('float32')\n",
    "    def get_data_set(self):\n",
    "        return self.data\n",
    "    def get_ids(self):\n",
    "        return self.ids\n",
    "    def get_labels(self):\n",
    "        return self.labels\n",
    "    def get_features(self):\n",
    "        return self.features\n",
    "    def get_preprocessed_features(self):\n",
    "        return self.preprocessed_features\n",
    "        "
   ]
  },
  {
   "cell_type": "code",
   "execution_count": 15,
   "metadata": {},
   "outputs": [
    {
     "name": "stdout",
     "output_type": "stream",
     "text": [
      "(22583,)\n",
      "(22583, 2)\n",
      "(22583,)\n",
      "(3044,)\n",
      "(3044, 2)\n",
      "(3044,)\n"
     ]
    }
   ],
   "source": [
    "train_loader = DatasetLoader('C:\\\\Users\\\\georg\\\\Documents\\\\PML\\\\training.csv')\n",
    "validation_loader = DatasetLoader('C:\\\\Users\\\\georg\\\\Documents\\\\PML\\\\validation.csv')\n",
    "print(train_loader.get_features().shape)\n",
    "print(train_loader.get_labels().shape)\n",
    "print(train_loader.get_ids().shape)\n",
    "print(validation_loader.get_features().shape)\n",
    "print(validation_loader.get_labels().shape)\n",
    "print(validation_loader.get_ids().shape)\n"
   ]
  },
  {
   "cell_type": "code",
   "execution_count": 16,
   "metadata": {},
   "outputs": [],
   "source": [
    "from sklearn.metrics import mean_squared_error\n",
    "class DataSetEvaluator:\n",
    "    def calculateMSE(self, model, dataSetLoader):\n",
    "        y_pred = model.predict(dataSetLoader.get_preprocessed_features())\n",
    "        print(y_pred[0])\n",
    "        return mean_squared_error(dataSetLoader.get_labels(), y_pred)\n",
    "    "
   ]
  },
  {
   "cell_type": "code",
   "execution_count": 102,
   "metadata": {},
   "outputs": [
    {
     "name": "stderr",
     "output_type": "stream",
     "text": [
      "C:\\Users\\georg\\anaconda3\\lib\\site-packages\\sklearn\\utils\\validation.py:68: FutureWarning: Pass kernel=rbf as keyword args. From version 0.25 passing these as positional arguments will result in an error\n",
      "  warnings.warn(\"Pass {} as keyword args. From version 0.25 \"\n"
     ]
    },
    {
     "data": {
      "text/plain": [
       "KernelRidge(alpha=0.0001, kernel='rbf')"
      ]
     },
     "execution_count": 102,
     "metadata": {},
     "output_type": "execute_result"
    }
   ],
   "source": [
    "from sklearn.linear_model import LinearRegression\n",
    "from sklearn.kernel_ridge import KernelRidge\n",
    "alpha = 10 ** -4\n",
    "kernel = \"rbf\"\n",
    "model = KernelRidge(alpha, kernel)\n",
    "model.fit(tokenized_tweets,train_loader.get_labels())"
   ]
  },
  {
   "cell_type": "code",
   "execution_count": 42,
   "metadata": {},
   "outputs": [
    {
     "data": {
      "text/plain": [
       "LinearRegression()"
      ]
     },
     "execution_count": 42,
     "metadata": {},
     "output_type": "execute_result"
    }
   ],
   "source": [
    "from sklearn.linear_model import LinearRegression\n",
    "LinearRegressionModel = LinearRegression()\n",
    "LinearRegressionModel.fit(train_loader.get_preprocessed_features(),train_loader.get_labels())"
   ]
  },
  {
   "cell_type": "code",
   "execution_count": 43,
   "metadata": {},
   "outputs": [
    {
     "name": "stderr",
     "output_type": "stream",
     "text": [
      "C:\\Users\\georg\\anaconda3\\lib\\site-packages\\sklearn\\svm\\_base.py:976: ConvergenceWarning: Liblinear failed to converge, increase the number of iterations.\n",
      "  warnings.warn(\"Liblinear failed to converge, increase \"\n",
      "C:\\Users\\georg\\anaconda3\\lib\\site-packages\\sklearn\\svm\\_base.py:976: ConvergenceWarning: Liblinear failed to converge, increase the number of iterations.\n",
      "  warnings.warn(\"Liblinear failed to converge, increase \"\n"
     ]
    },
    {
     "data": {
      "text/plain": [
       "RegressorChain(base_estimator=LinearSVR())"
      ]
     },
     "execution_count": 43,
     "metadata": {},
     "output_type": "execute_result"
    }
   ],
   "source": [
    "from sklearn.multioutput import RegressorChain\n",
    "from sklearn.svm import LinearSVR\n",
    "\n",
    "LinearSvrModel = LinearSVR()\n",
    "# define the chained multioutput wrapper model\n",
    "LinearSvrWrapper = RegressorChain(LinearSvrModel)\n",
    "# fit the model on the whole dataset\n",
    "LinearSvrWrapper.fit(train_loader.get_preprocessed_features(),train_loader.get_labels())"
   ]
  },
  {
   "cell_type": "code",
   "execution_count": 40,
   "metadata": {},
   "outputs": [
    {
     "name": "stdout",
     "output_type": "stream",
     "text": [
      "Model: \"sequential_5\"\n",
      "_________________________________________________________________\n",
      "Layer (type)                 Output Shape              Param #   \n",
      "=================================================================\n",
      "dense_12 (Dense)             (None, 512)               1536512   \n",
      "_________________________________________________________________\n",
      "dropout_8 (Dropout)          (None, 512)               0         \n",
      "_________________________________________________________________\n",
      "dense_13 (Dense)             (None, 256)               131328    \n",
      "_________________________________________________________________\n",
      "dropout_9 (Dropout)          (None, 256)               0         \n",
      "_________________________________________________________________\n",
      "dense_14 (Dense)             (None, 2)                 514       \n",
      "=================================================================\n",
      "Total params: 1,668,354\n",
      "Trainable params: 1,668,354\n",
      "Non-trainable params: 0\n",
      "_________________________________________________________________\n"
     ]
    }
   ],
   "source": [
    "from keras.models import Sequential\n",
    "from keras.layers import Dense, Dropout, Activation\n",
    "\n",
    "modelNN = Sequential()\n",
    "modelNN.add(Dense(512, input_shape=(max_words,), activation='relu'))\n",
    "modelNN.add(Dropout(0.5))\n",
    "modelNN.add(Dense(256, activation='sigmoid'))\n",
    "modelNN.add(Dropout(0.5))\n",
    "modelNN.add(Dense(2))\n",
    "modelNN.summary()\n",
    "modelNN.compile(loss='mean_squared_error', optimizer='adam')"
   ]
  },
  {
   "cell_type": "code",
   "execution_count": 41,
   "metadata": {},
   "outputs": [
    {
     "name": "stdout",
     "output_type": "stream",
     "text": [
      "Epoch 1/5\n",
      "636/636 [==============================] - 7s 12ms/step - loss: 185.1670 - val_loss: 1.5588\n",
      "Epoch 2/5\n",
      "636/636 [==============================] - 8s 12ms/step - loss: 11.1213 - val_loss: 1.3146\n",
      "Epoch 3/5\n",
      "636/636 [==============================] - 7s 11ms/step - loss: 10.6630 - val_loss: 1.3259\n",
      "Epoch 4/5\n",
      "636/636 [==============================] - 7s 11ms/step - loss: 10.7760 - val_loss: 1.3474\n",
      "Epoch 5/5\n",
      "636/636 [==============================] - 7s 11ms/step - loss: 10.5268 - val_loss: 1.3433\n"
     ]
    },
    {
     "data": {
      "text/plain": [
       "<tensorflow.python.keras.callbacks.History at 0x1f957bfe4c0>"
      ]
     },
     "execution_count": 41,
     "metadata": {},
     "output_type": "execute_result"
    }
   ],
   "source": [
    "modelNN.fit(train_loader.get_preprocessed_features(), train_loader.get_labels(),\n",
    "  batch_size=32,\n",
    "  epochs=5,\n",
    "  verbose=1,\n",
    "  validation_split=0.1,\n",
    "  shuffle=True)"
   ]
  },
  {
   "cell_type": "code",
   "execution_count": 44,
   "metadata": {},
   "outputs": [
    {
     "name": "stdout",
     "output_type": "stream",
     "text": [
      "[51.57597   9.856364]\n",
      "1.3347499\n",
      "[51.73949143 10.70975961]\n",
      "1.5282538955220115\n",
      "[51.327515  9.308052]\n",
      "1.3197142\n"
     ]
    }
   ],
   "source": [
    "evaluator = DataSetEvaluator()\n",
    "print(evaluator.calculateMSE(LinearRegressionModel, validation_loader))\n",
    "print(evaluator.calculateMSE(LinearSvrWrapper, validation_loader))\n",
    "print(evaluator.calculateMSE(modelNN, validation_loader))\n"
   ]
  },
  {
   "cell_type": "code",
   "execution_count": 17,
   "metadata": {},
   "outputs": [
    {
     "name": "stdout",
     "output_type": "stream",
     "text": [
      "Epoch 1/10\n",
      "636/636 [==============================] - 112s 177ms/step - loss: 822.2620 - val_loss: 331.3583\n",
      "Epoch 2/10\n",
      "636/636 [==============================] - 115s 181ms/step - loss: 157.9671 - val_loss: 54.8730\n",
      "Epoch 3/10\n",
      "636/636 [==============================] - 122s 192ms/step - loss: 22.4474 - val_loss: 5.8048\n",
      "Epoch 4/10\n",
      "636/636 [==============================] - 120s 189ms/step - loss: 2.6417 - val_loss: 1.3999\n",
      "Epoch 5/10\n",
      "636/636 [==============================] - 116s 183ms/step - loss: 1.3211 - val_loss: 1.2591\n",
      "Epoch 6/10\n",
      "636/636 [==============================] - 115s 181ms/step - loss: 1.2915 - val_loss: 1.2687\n",
      "Epoch 7/10\n",
      "636/636 [==============================] - 939s 1s/step - loss: 1.2907 - val_loss: 1.2550\n",
      "Epoch 8/10\n",
      "636/636 [==============================] - 116s 182ms/step - loss: 1.2906 - val_loss: 1.2548\n",
      "Epoch 9/10\n",
      "636/636 [==============================] - 116s 182ms/step - loss: 1.2906 - val_loss: 1.2553\n",
      "Epoch 10/10\n",
      "636/636 [==============================] - 118s 185ms/step - loss: 1.2904 - val_loss: 1.2729\n"
     ]
    }
   ],
   "source": [
    "from keras.models import Sequential\n",
    "from keras.layers import Embedding, Flatten, Dense,SimpleRNN\n",
    "\n",
    "modelEE = Sequential()\n",
    "modelEE.add(Embedding(max_words, 32))\n",
    "modelEE.add(SimpleRNN(32))\n",
    "modelEE.add(Dense(2))\n",
    "modelEE.compile(loss='mean_squared_error', optimizer='adam')\n",
    "history = modelEE.fit(train_loader.get_preprocessed_features(), train_loader.get_labels(),\n",
    "  batch_size=32,\n",
    "  epochs=10,\n",
    "  verbose=1,\n",
    "  validation_split=0.1,\n",
    "  shuffle=True)"
   ]
  },
  {
   "cell_type": "code",
   "execution_count": 18,
   "metadata": {},
   "outputs": [
    {
     "name": "stdout",
     "output_type": "stream",
     "text": [
      "[51.69241   9.230614]\n",
      "1.2452524\n"
     ]
    }
   ],
   "source": [
    "evaluator = DataSetEvaluator()\n",
    "print(evaluator.calculateMSE(modelEE, validation_loader))"
   ]
  }
 ],
 "metadata": {
  "kernelspec": {
   "display_name": "Python 3",
   "language": "python",
   "name": "python3"
  },
  "language_info": {
   "codemirror_mode": {
    "name": "ipython",
    "version": 3
   },
   "file_extension": ".py",
   "mimetype": "text/x-python",
   "name": "python",
   "nbconvert_exporter": "python",
   "pygments_lexer": "ipython3",
   "version": "3.8.3"
  }
 },
 "nbformat": 4,
 "nbformat_minor": 4
}
