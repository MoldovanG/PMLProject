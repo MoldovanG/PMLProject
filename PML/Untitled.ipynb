{
 "cells": [
  {
   "cell_type": "code",
   "execution_count": 8,
   "metadata": {},
   "outputs": [],
   "source": [
    "import pandas as pd\n",
    "import re\n",
    "from sklearn.feature_extraction.text import CountVectorizer\n",
    "from keras.preprocessing.text import Tokenizer\n",
    "from keras.preprocessing.sequence import pad_sequences\n",
    "\n",
    "\n",
    "def loadNclean():\n",
    "    data = pd.read_csv('training.csv')\n",
    "    data['tweet'] = data['tweet'].apply(lambda x: x.lower())\n",
    "    data['tweet'] = data['tweet'].apply((lambda x: re.sub('[^a-zA-z0-9\\s]','',x)))\n",
    "    return data\n",
    "\n",
    "max_words = 500\n",
    "data = loadNclean()\n",
    "tok = Tokenizer(nb_words=max_words, split=' ')\n",
    "tok.fit_on_texts(data['tweet'].values)\n",
    "X = tok.texts_to_sequences(data['tweet'].values)\n",
    "X = pad_sequences(X)"
   ]
  },
  {
   "cell_type": "code",
   "execution_count": 17,
   "metadata": {},
   "outputs": [
    {
     "name": "stdout",
     "output_type": "stream",
     "text": [
      "Model: \"sequential_1\"\n",
      "_________________________________________________________________\n",
      "Layer (type)                 Output Shape              Param #   \n",
      "=================================================================\n",
      "embedding_1 (Embedding)      (None, 92, 32)            16000     \n",
      "_________________________________________________________________\n",
      "lstm_1 (LSTM)                (None, 10)                1720      \n",
      "_________________________________________________________________\n",
      "dense_1 (Dense)              (None, 2)                 22        \n",
      "=================================================================\n",
      "Total params: 17,742\n",
      "Trainable params: 17,742\n",
      "Non-trainable params: 0\n",
      "_________________________________________________________________\n",
      "None\n"
     ]
    }
   ],
   "source": [
    "from keras.models import Sequential\n",
    "from keras.layers import Dense, Embedding, LSTM\n",
    "\n",
    "embed_dim = 32\n",
    "lstm_out = 10\n",
    "def buildModel(): \n",
    "    model = Sequential()\n",
    "    model.add(Embedding(max_words,embed_dim,input_length=X.shape[1]))\n",
    "    model.add(LSTM(lstm_out))\n",
    "    model.add(Dense(2))\n",
    "    model.compile(loss='mean_squared_error', optimizer='adam')\n",
    "    return model\n",
    "model = buildModel()\n",
    "print(model.summary())"
   ]
  },
  {
   "cell_type": "code",
   "execution_count": 18,
   "metadata": {},
   "outputs": [
    {
     "name": "stdout",
     "output_type": "stream",
     "text": [
      "(15130, 92) (15130, 2)\n"
     ]
    }
   ],
   "source": [
    "import numpy as np\n",
    "from sklearn.model_selection import train_test_split\n",
    "from keras.utils.np_utils import to_categorical\n",
    "Y = np.array(data)[:,1:3]\n",
    "Y = np.asarray(Y).astype('float32')\n",
    "X_train, X_test, Y_train, Y_test = train_test_split(X, Y, test_size=0.33, random_state=42)\n",
    "print(X_train.shape,Y_train.shape)"
   ]
  },
  {
   "cell_type": "code",
   "execution_count": 19,
   "metadata": {},
   "outputs": [
    {
     "name": "stdout",
     "output_type": "stream",
     "text": [
      "Epoch 1/10\n",
      "473/473 [==============================] - 9s 19ms/step - loss: 1040.8303\n",
      "Epoch 2/10\n",
      "473/473 [==============================] - 9s 18ms/step - loss: 754.5096\n",
      "Epoch 3/10\n",
      "473/473 [==============================] - 9s 19ms/step - loss: 574.3218\n",
      "Epoch 4/10\n",
      "473/473 [==============================] - 9s 19ms/step - loss: 431.1081\n",
      "Epoch 5/10\n",
      "473/473 [==============================] - 9s 19ms/step - loss: 315.6160\n",
      "Epoch 6/10\n",
      "473/473 [==============================] - 9s 18ms/step - loss: 223.6107\n",
      "Epoch 7/10\n",
      "473/473 [==============================] - 9s 19ms/step - loss: 151.9853\n",
      "Epoch 8/10\n",
      "473/473 [==============================] - 9s 19ms/step - loss: 98.0467\n",
      "Epoch 9/10\n",
      "473/473 [==============================] - 9s 19ms/step - loss: 59.2388\n",
      "Epoch 10/10\n",
      "473/473 [==============================] - 9s 19ms/step - loss: 33.0004\n"
     ]
    },
    {
     "data": {
      "text/plain": [
       "<tensorflow.python.keras.callbacks.History at 0x172fd704550>"
      ]
     },
     "execution_count": 19,
     "metadata": {},
     "output_type": "execute_result"
    }
   ],
   "source": [
    "model.fit(X_train,Y_train, epochs=10, batch_size=32, verbose=1)"
   ]
  },
  {
   "cell_type": "code",
   "execution_count": null,
   "metadata": {},
   "outputs": [],
   "source": []
  }
 ],
 "metadata": {
  "kernelspec": {
   "display_name": "Python 3",
   "language": "python",
   "name": "python3"
  },
  "language_info": {
   "codemirror_mode": {
    "name": "ipython",
    "version": 3
   },
   "file_extension": ".py",
   "mimetype": "text/x-python",
   "name": "python",
   "nbconvert_exporter": "python",
   "pygments_lexer": "ipython3",
   "version": "3.8.5"
  }
 },
 "nbformat": 4,
 "nbformat_minor": 4
}
